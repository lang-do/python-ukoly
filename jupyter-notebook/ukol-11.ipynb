{
 "cells": [
  {
   "cell_type": "code",
   "execution_count": 46,
   "metadata": {},
   "outputs": [
    {
     "name": "stdout",
     "output_type": "stream",
     "text": [
      "['190 16 PRAHA 916', '378 08 DVORY NAD LUŽNICÍ', '190 16 PRAHA 916', '378 08 DVORY NAD LUŽNICÍ', '186 00 PRAHA 86', '118 00                                                                     PRAHA 011', '397 04 PÍSEK 4', '460 15                                                                     LIBEREC 15', '623 00 BRNO 23', '512 11 VYSOKÉ NAD                                                                     JIZEROU', '378 07 RAPŠACH', '130 00 PRAHA 3', '273 01 KAMENNÉ ŽEHROVICE', '513 01 SEMILY', '398 11 PROTIVÍN', '742 45 FULNEK', '948 01 Lučenec']\n"
     ]
    }
   ],
   "source": [
    "with open(\"posta.html\", encoding='utf-8') as vstup:\n",
    "    posta = vstup.read()\n",
    "#posta\n",
    "posta.replace(\"\\n\", \" \")\n",
    "import re\n",
    "re.sub(\" +\", \"\", posta)\n",
    "regex_PSC = re.compile(r\"\\d{3}\\s\\d{2}[A-Ža-ž\\s]+\\s\\d+|\\d{3}\\s\\d{2}[A-Ža-ž\\s]+\")\n",
    "vysledky = regex_PSC.findall(posta.replace(\"\\n\", \" \"))\n",
    "print(vysledky)"
   ]
  }
 ],
 "metadata": {
  "kernelspec": {
   "display_name": "Python 3.9.5 64-bit",
   "language": "python",
   "name": "python3"
  },
  "language_info": {
   "codemirror_mode": {
    "name": "ipython",
    "version": 3
   },
   "file_extension": ".py",
   "mimetype": "text/x-python",
   "name": "python",
   "nbconvert_exporter": "python",
   "pygments_lexer": "ipython3",
   "version": "3.9.5"
  },
  "orig_nbformat": 4,
  "vscode": {
   "interpreter": {
    "hash": "aee8b7b246df8f9039afb4144a1f6fd8d2ca17a180786b69acc140d282b71a49"
   }
  }
 },
 "nbformat": 4,
 "nbformat_minor": 2
}

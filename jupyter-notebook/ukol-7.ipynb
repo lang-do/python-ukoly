{
 "cells": [
  {
   "cell_type": "code",
   "execution_count": 86,
   "metadata": {},
   "outputs": [],
   "source": [
    "import datetime as dt\n",
    "from datetime import datetime, timedelta, date, timezone"
   ]
  },
  {
   "cell_type": "code",
   "execution_count": 87,
   "metadata": {},
   "outputs": [],
   "source": [
    "otevreno_za_250_od = datetime(2021, 7, 1)\n",
    "otevreno_za_250_do = datetime(2021, 8, 10)\n",
    "otevreno_za_180_od = datetime(2021, 8, 11)\n",
    "otevreno_za_180_do = datetime(2021, 8, 31)"
   ]
  },
  {
   "cell_type": "code",
   "execution_count": 88,
   "metadata": {},
   "outputs": [],
   "source": [
    "datum = input(\"Ktery termin jste si vybrali? /format %d. %m. %Y\")\n",
    "pocet_osob = int(input(\"Kolik vstupenek si prejete?\"))"
   ]
  },
  {
   "cell_type": "code",
   "execution_count": 89,
   "metadata": {},
   "outputs": [
    {
     "data": {
      "text/plain": [
       "datetime.datetime(2021, 8, 31, 0, 0)"
      ]
     },
     "execution_count": 89,
     "metadata": {},
     "output_type": "execute_result"
    }
   ],
   "source": [
    "datum = datetime.strptime(datum, \"%d. %m. %Y\")\n",
    "datum"
   ]
  },
  {
   "cell_type": "code",
   "execution_count": 90,
   "metadata": {},
   "outputs": [],
   "source": [
    "if datum < otevreno_za_250_od or datum > otevreno_za_180_do:\n",
    "    print(\"Letni kino v tomto terminu nepromita.\")"
   ]
  },
  {
   "cell_type": "code",
   "execution_count": 91,
   "metadata": {},
   "outputs": [
    {
     "name": "stdout",
     "output_type": "stream",
     "text": [
      "Cena vstupenek je 540.\n"
     ]
    }
   ],
   "source": [
    "if datum >= otevreno_za_250_od and datum <= otevreno_za_250_do:\n",
    "    sum_cena = pocet_osob * 250\n",
    "    print(f\"Cena vstupenek je {sum_cena}.\")\n",
    "elif datum >= otevreno_za_180_od and datum <= otevreno_za_180_do:\n",
    "    sum_cena = pocet_osob * 180\n",
    "    print(f\"Cena vstupenek je {sum_cena}.\")"
   ]
  }
 ],
 "metadata": {
  "kernelspec": {
   "display_name": "Python 3.9.5 64-bit",
   "language": "python",
   "name": "python3"
  },
  "language_info": {
   "codemirror_mode": {
    "name": "ipython",
    "version": 3
   },
   "file_extension": ".py",
   "mimetype": "text/x-python",
   "name": "python",
   "nbconvert_exporter": "python",
   "pygments_lexer": "ipython3",
   "version": "3.9.5"
  },
  "orig_nbformat": 4,
  "vscode": {
   "interpreter": {
    "hash": "aee8b7b246df8f9039afb4144a1f6fd8d2ca17a180786b69acc140d282b71a49"
   }
  }
 },
 "nbformat": 4,
 "nbformat_minor": 2
}

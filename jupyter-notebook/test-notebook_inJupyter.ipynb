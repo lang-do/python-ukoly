{
 "cells": [
  {
   "cell_type": "code",
   "execution_count": 4,
   "id": "84507096",
   "metadata": {},
   "outputs": [
    {
     "name": "stdout",
     "output_type": "stream",
     "text": [
      "Ahoj\n"
     ]
    }
   ],
   "source": [
    "print(\"Ahoj\")"
   ]
  },
  {
   "cell_type": "code",
   "execution_count": 5,
   "id": "c4f461ee",
   "metadata": {},
   "outputs": [
    {
     "name": "stdout",
     "output_type": "stream",
     "text": [
      "\u001b[0;31mDocstring:\u001b[0m\n",
      "print(value, ..., sep=' ', end='\\n', file=sys.stdout, flush=False)\n",
      "\n",
      "Prints the values to a stream, or to sys.stdout by default.\n",
      "Optional keyword arguments:\n",
      "file:  a file-like object (stream); defaults to the current sys.stdout.\n",
      "sep:   string inserted between values, default a space.\n",
      "end:   string appended after the last value, default a newline.\n",
      "flush: whether to forcibly flush the stream.\n",
      "\u001b[0;31mType:\u001b[0m      builtin_function_or_method\n"
     ]
    }
   ],
   "source": [
    "print?"
   ]
  },
  {
   "cell_type": "markdown",
   "id": "c7eee654",
   "metadata": {},
   "source": [
    "Tohle je text pomocí Markdown"
   ]
  },
  {
   "cell_type": "code",
   "execution_count": 8,
   "id": "270eaa67",
   "metadata": {},
   "outputs": [],
   "source": [
    "def funkce():\n",
    "    pass"
   ]
  },
  {
   "cell_type": "code",
   "execution_count": 16,
   "id": "44fd9a74",
   "metadata": {},
   "outputs": [],
   "source": [
    "import datetime as dt # as proto, abych mohla volat balicek pod zkratkou dt\n",
    "from datetime import datetime, timedelta, date, timezone"
   ]
  },
  {
   "cell_type": "code",
   "execution_count": 17,
   "id": "1f5a1010",
   "metadata": {},
   "outputs": [
    {
     "data": {
      "text/plain": [
       "datetime.datetime(2022, 11, 1, 19, 14, 24, 621452, tzinfo=datetime.timezone(datetime.timedelta(seconds=3600), 'CET'))"
      ]
     },
     "execution_count": 17,
     "metadata": {},
     "output_type": "execute_result"
    }
   ],
   "source": [
    "datetime.now(timezone.utc).astimezone()"
   ]
  },
  {
   "cell_type": "code",
   "execution_count": 20,
   "id": "ec163efd",
   "metadata": {},
   "outputs": [
    {
     "data": {
      "text/plain": [
       "datetime.datetime(2022, 11, 1, 19, 17, 27, 738441)"
      ]
     },
     "execution_count": 20,
     "metadata": {},
     "output_type": "execute_result"
    }
   ],
   "source": [
    "datetime.today()"
   ]
  },
  {
   "cell_type": "code",
   "execution_count": 19,
   "id": "c6b88129",
   "metadata": {},
   "outputs": [
    {
     "data": {
      "text/plain": [
       "datetime.datetime(1969, 7, 16, 14, 32)"
      ]
     },
     "execution_count": 19,
     "metadata": {},
     "output_type": "execute_result"
    }
   ],
   "source": [
    "start_apolla = datetime(1969, 7, 16, 14, 32)\n",
    "start_apolla"
   ]
  },
  {
   "cell_type": "code",
   "execution_count": 43,
   "id": "8abedba8",
   "metadata": {},
   "outputs": [
    {
     "data": {
      "text/plain": [
       "datetime.datetime(1995, 10, 23, 0, 0)"
      ]
     },
     "execution_count": 43,
     "metadata": {},
     "output_type": "execute_result"
    }
   ],
   "source": [
    "datum_narozeni = datetime(1995, 10, 23)\n",
    "datum_narozeni"
   ]
  },
  {
   "cell_type": "code",
   "execution_count": 28,
   "id": "4f622aba",
   "metadata": {},
   "outputs": [
    {
     "data": {
      "text/plain": [
       "0"
      ]
     },
     "execution_count": 28,
     "metadata": {},
     "output_type": "execute_result"
    }
   ],
   "source": [
    "datum_narozeni.isoweekday() # 1-7\n",
    "datum_narozeni.weekday() # 0-6"
   ]
  },
  {
   "cell_type": "code",
   "execution_count": 29,
   "id": "9058d324",
   "metadata": {},
   "outputs": [
    {
     "name": "stdout",
     "output_type": "stream",
     "text": [
      "1995-10-23 00:00:00\n"
     ]
    }
   ],
   "source": [
    "print(datum_narozeni)"
   ]
  },
  {
   "cell_type": "code",
   "execution_count": 30,
   "id": "0673f89b",
   "metadata": {},
   "outputs": [
    {
     "data": {
      "text/plain": [
       "'1995'"
      ]
     },
     "execution_count": 30,
     "metadata": {},
     "output_type": "execute_result"
    }
   ],
   "source": [
    "datum_narozeni.strftime(\"%Y\")"
   ]
  },
  {
   "cell_type": "code",
   "execution_count": 31,
   "id": "d991ac71",
   "metadata": {},
   "outputs": [
    {
     "data": {
      "text/plain": [
       "'23. 10. 1995'"
      ]
     },
     "execution_count": 31,
     "metadata": {},
     "output_type": "execute_result"
    }
   ],
   "source": [
    "datum_narozeni.strftime(\"%d. %m. %Y\")"
   ]
  },
  {
   "cell_type": "code",
   "execution_count": 33,
   "id": "fcc9e949",
   "metadata": {},
   "outputs": [
    {
     "data": {
      "text/plain": [
       "'00:00:00 AM'"
      ]
     },
     "execution_count": 33,
     "metadata": {},
     "output_type": "execute_result"
    }
   ],
   "source": [
    "datum_narozeni.strftime(\"%H:%M:%S %p\")"
   ]
  },
  {
   "cell_type": "code",
   "execution_count": 34,
   "id": "36866ec3",
   "metadata": {},
   "outputs": [
    {
     "data": {
      "text/plain": [
       "'Monday'"
      ]
     },
     "execution_count": 34,
     "metadata": {},
     "output_type": "execute_result"
    }
   ],
   "source": [
    "datum_narozeni.strftime(\"%A\")"
   ]
  },
  {
   "cell_type": "code",
   "execution_count": 35,
   "id": "998fdd6f",
   "metadata": {},
   "outputs": [
    {
     "data": {
      "text/plain": [
       "'cs_CZ.UTF-8'"
      ]
     },
     "execution_count": 35,
     "metadata": {},
     "output_type": "execute_result"
    }
   ],
   "source": [
    "import locale\n",
    "locale.setlocale(locale.LC_TIME, 'cs_CZ.UTF-8')"
   ]
  },
  {
   "cell_type": "code",
   "execution_count": 36,
   "id": "e7725adb",
   "metadata": {},
   "outputs": [
    {
     "data": {
      "text/plain": [
       "'pondělí'"
      ]
     },
     "execution_count": 36,
     "metadata": {},
     "output_type": "execute_result"
    }
   ],
   "source": [
    "datum_narozeni.strftime(\"%A\")"
   ]
  },
  {
   "cell_type": "code",
   "execution_count": 39,
   "id": "5bd1e622",
   "metadata": {},
   "outputs": [
    {
     "data": {
      "text/plain": [
       "datetime.datetime(2022, 11, 1, 0, 0)"
      ]
     },
     "execution_count": 39,
     "metadata": {},
     "output_type": "execute_result"
    }
   ],
   "source": [
    "retezec = \"21. 7. 1969, 18:54\"\n",
    "datum_dnes = datetime.strptime(\"1. 11. 2022\", \"%d. %m. %Y\")\n",
    "datum_dnes"
   ]
  },
  {
   "cell_type": "code",
   "execution_count": 44,
   "id": "3e8a3c28",
   "metadata": {},
   "outputs": [
    {
     "data": {
      "text/plain": [
       "datetime.timedelta(days=9871)"
      ]
     },
     "execution_count": 44,
     "metadata": {},
     "output_type": "execute_result"
    }
   ],
   "source": [
    "datum_dnes - datum_narozeni"
   ]
  },
  {
   "cell_type": "code",
   "execution_count": 45,
   "id": "470ab063",
   "metadata": {},
   "outputs": [
    {
     "data": {
      "text/plain": [
       "'2022-10-31'"
      ]
     },
     "execution_count": 45,
     "metadata": {},
     "output_type": "execute_result"
    }
   ],
   "source": [
    "dnes = datetime.today()\n",
    "vcera = dnes - timedelta(days=1)\n",
    "\n",
    "vcera = vcera.strftime(\"%Y-%m-%d\")\n",
    "vcera"
   ]
  },
  {
   "cell_type": "code",
   "execution_count": 48,
   "id": "aed276ad",
   "metadata": {},
   "outputs": [
    {
     "name": "stdout",
     "output_type": "stream",
     "text": [
      "True\n",
      "False\n"
     ]
    }
   ],
   "source": [
    "import calendar\n",
    "print(calendar.isleap(2020)) # je přestupný ?\n",
    "print(calendar.isleap(2022))"
   ]
  },
  {
   "cell_type": "code",
   "execution_count": null,
   "id": "ddd9d012",
   "metadata": {},
   "outputs": [],
   "source": [
    "# problém roku 2038 = Y2K38 - 19. 1. 2038 přeteče pamět a bude rok 1901"
   ]
  },
  {
   "cell_type": "markdown",
   "id": "ab20efe5",
   "metadata": {},
   "source": [
    "apollo"
   ]
  },
  {
   "cell_type": "code",
   "execution_count": 49,
   "id": "70215d5b",
   "metadata": {},
   "outputs": [
    {
     "name": "stdout",
     "output_type": "stream",
     "text": [
      "1969-07-16 14:32:00\n"
     ]
    }
   ],
   "source": [
    "apollo_start = datetime(1969, 7, 16, 14, 32)\n",
    "print(apollo_start)"
   ]
  },
  {
   "cell_type": "code",
   "execution_count": 50,
   "id": "62a4a2da",
   "metadata": {},
   "outputs": [
    {
     "data": {
      "text/plain": [
       "'07/16/1969'"
      ]
     },
     "execution_count": 50,
     "metadata": {},
     "output_type": "execute_result"
    }
   ],
   "source": [
    "apollo_start.strftime(\"%m/%d/%Y\")"
   ]
  },
  {
   "cell_type": "markdown",
   "id": "18b75041",
   "metadata": {},
   "source": [
    "solar orbiter"
   ]
  },
  {
   "cell_type": "code",
   "execution_count": 52,
   "id": "d1f45c0a",
   "metadata": {},
   "outputs": [],
   "source": [
    "solar_orbiter_start = datetime(2020, 2, 10, 5, 3)"
   ]
  },
  {
   "cell_type": "code",
   "execution_count": 54,
   "id": "e91bd5f1",
   "metadata": {},
   "outputs": [
    {
     "data": {
      "text/plain": [
       "'pondělí'"
      ]
     },
     "execution_count": 54,
     "metadata": {},
     "output_type": "execute_result"
    }
   ],
   "source": [
    "solar_orbiter_start.weekday()\n",
    "solar_orbiter_start.strftime(\"%A\")"
   ]
  },
  {
   "cell_type": "code",
   "execution_count": 55,
   "id": "427e6e8f",
   "metadata": {},
   "outputs": [
    {
     "data": {
      "text/plain": [
       "datetime.timedelta(days=995, seconds=54076, microseconds=209379)"
      ]
     },
     "execution_count": 55,
     "metadata": {},
     "output_type": "execute_result"
    }
   ],
   "source": [
    "dnes = datetime.today()\n",
    "dnes - solar_orbiter_start"
   ]
  },
  {
   "cell_type": "markdown",
   "id": "af024f5f",
   "metadata": {},
   "source": [
    "objednávka"
   ]
  },
  {
   "cell_type": "code",
   "execution_count": 56,
   "id": "04dc7d1d",
   "metadata": {},
   "outputs": [],
   "source": [
    "cas_objednavky = datetime(2020, 11, 13, 19, 47,0)"
   ]
  },
  {
   "cell_type": "code",
   "execution_count": 58,
   "id": "30a3d426",
   "metadata": {},
   "outputs": [
    {
     "name": "stdout",
     "output_type": "stream",
     "text": [
      "2020-11-13 20:51:05\n"
     ]
    }
   ],
   "source": [
    "vyrizeni_objednavky = cas_objednavky + timedelta(minutes=8, seconds=35)\n",
    "uvareni = vyrizeni_objednavky + timedelta(minutes=30)\n",
    "doruceni = uvareni + timedelta(minutes=25, seconds=30)\n",
    "print(doruceni)"
   ]
  }
 ],
 "metadata": {
  "kernelspec": {
   "display_name": "Python 3.9.5 64-bit",
   "language": "python",
   "name": "python3"
  },
  "language_info": {
   "codemirror_mode": {
    "name": "ipython",
    "version": 3
   },
   "file_extension": ".py",
   "mimetype": "text/x-python",
   "name": "python",
   "nbconvert_exporter": "python",
   "pygments_lexer": "ipython3",
   "version": "3.9.5"
  },
  "vscode": {
   "interpreter": {
    "hash": "aee8b7b246df8f9039afb4144a1f6fd8d2ca17a180786b69acc140d282b71a49"
   }
  }
 },
 "nbformat": 4,
 "nbformat_minor": 5
}
